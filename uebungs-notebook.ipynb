{
 "cells": [
  {
   "cell_type": "markdown",
   "metadata": {},
   "source": [
    "# Übungen zu den Grundkonzepten von Python"
   ]
  },
  {
   "cell_type": "markdown",
   "metadata": {},
   "source": [
    "## Numerische Datentypen\n",
    "\n",
    "### Aufgabe 1\n",
    "\n",
    "Erstellen Sie zwei Variablen. Nutzen Sie sprechende Variablennamen.\n",
    "\n",
    "Einer Variable weisen Sie den Wert Ihrer Hausnummer zu. Die zweite Variable soll Ihre Postcode-Nummer enthalten.\n",
    "\n",
    "Geben Sie Hausnummer und Postcode-Nummer mit dem `print()`-Befehl aus.\n",
    "\n",
    "Checken Sie den Datentyp mit `type()`."
   ]
  },
  {
   "cell_type": "code",
   "execution_count": null,
   "metadata": {},
   "outputs": [],
   "source": []
  },
  {
   "cell_type": "markdown",
   "metadata": {},
   "source": [
    "### Aufgabe 2\n",
    "\n",
    "Erstellen Sie drei Variablen und weisen diesen Integer-Werte zu. Nutzen Sie die Variablen, um verschiedene arithmetische Operationen durchzuführen:\n",
    "* Addition\n",
    "* Substraktion\n",
    "* Multiplikation\n",
    "* Division\n",
    "* Exponenten"
   ]
  },
  {
   "cell_type": "code",
   "execution_count": null,
   "metadata": {},
   "outputs": [],
   "source": []
  },
  {
   "cell_type": "markdown",
   "metadata": {},
   "source": [
    "## Strings\n",
    "\n",
    "### Aufgabe 3"
   ]
  },
  {
   "cell_type": "markdown",
   "metadata": {},
   "source": [
    "Legen Sie die Variable `zeichenkette` an und speichern Sie darin den String `Brautkleid bleibt Brautkleid und Blaukraut bleibt Blaukraut.`\n",
    "\n",
    "Speichern Sie den String mit Hilfe von `lower()` in Kleinbuchstaben in der Variablen `zeichenkette_lower`. \n",
    "\n",
    "Zählen Sie mit `count()` wie oft der Substring 'au' vorkommt.\n",
    "\n",
    "Ersetzen Sie mit `replace()` 'Blaukraut' durch 'Rotkohl'.\n"
   ]
  },
  {
   "cell_type": "code",
   "execution_count": null,
   "metadata": {},
   "outputs": [],
   "source": []
  },
  {
   "cell_type": "markdown",
   "metadata": {},
   "source": [
    "### Aufgabe 4\n",
    "\n",
    "Erstellen Sie eine Variable `first_name` und weisen Sie Ihren Vornamen zu. Erstellen Sie ferner eine Variable `last_name`, die Ihren Nachnamen enthält. Zusätzlich erstellen Sie eine Variable `house_number` in der Sie Ihre Hausnummer als Integer abspeichern.\n",
    "\n",
    "Konkatenieren Sie die beiden Variablen und weisen das Ergbenis der Variablen `full_name` zu.\n",
    "\n",
    "Geben Sie die Variable `first_name` dreimal hintereinander in Großbuchstaben aus.\n",
    "\n",
    "Bilden Sie einen Satz, in dem Sie sich kurz vorstellen und Auskunft über Ihre Hausnummer geben. (Sie können dazu auch f-Strings nutzen.)"
   ]
  },
  {
   "cell_type": "code",
   "execution_count": null,
   "metadata": {},
   "outputs": [],
   "source": []
  },
  {
   "cell_type": "markdown",
   "metadata": {},
   "source": [
    "### Aufgabe 5\n",
    "\n",
    "Erstellen Sie einen String und weisen diesen einer Variablen zu. Der String sollte einen Satz bilden und eine Länge zwischen 50 und 75 Zeichen inkl. Whitespaces umfassen. Nutzen Sie für die folgende Aufgabe Indexierung und Slicing.\n",
    "\n",
    "Geben Sie das Zeichen an der ersten Indexposition aus. \n",
    "\n",
    "Geben Sie das Zeichen an der letzten Indexposition aus.\n",
    "\n",
    "Geben Sie die letzten 7 Zeichen aus.\n",
    "\n",
    "Geben Sie alle Zeichen nach der Indexposition 19 aus.\n",
    "\n",
    "Geben Sie jedes zweite Zeichen aus."
   ]
  },
  {
   "cell_type": "code",
   "execution_count": null,
   "metadata": {},
   "outputs": [],
   "source": []
  },
  {
   "cell_type": "markdown",
   "metadata": {},
   "source": [
    "## Bedingte Anweisungen\n",
    "\n",
    "### Aufgabe 6\n",
    "\n",
    "`True` oder `False`? Prüfen Sie, welche Booleschen Werte zurückgegeben werden. Schreiben Sie Ihre Antwort in den Kommentar, bevor Sie die Zelle auführen."
   ]
  },
  {
   "cell_type": "code",
   "execution_count": null,
   "metadata": {},
   "outputs": [],
   "source": [
    "# True or False?\n",
    "# your answer here => \n",
    "\n",
    "print('Hufe' in 'Hufeisen')"
   ]
  },
  {
   "cell_type": "code",
   "execution_count": null,
   "metadata": {},
   "outputs": [],
   "source": [
    "# True or False?\n",
    "# your answer here =>\n",
    "\n",
    "print('öni' not in 'König')"
   ]
  },
  {
   "cell_type": "code",
   "execution_count": null,
   "metadata": {},
   "outputs": [],
   "source": [
    "# True or False?\n",
    "# your answer here =>\n",
    "\n",
    "print(23 == 42)"
   ]
  },
  {
   "cell_type": "code",
   "execution_count": null,
   "metadata": {},
   "outputs": [],
   "source": [
    "# True or False?\n",
    "# your answer here =>\n",
    "\n",
    "print(19 >= 27)"
   ]
  },
  {
   "cell_type": "code",
   "execution_count": null,
   "metadata": {},
   "outputs": [],
   "source": [
    "# True or False?\n",
    "# your answer here =>\n",
    "\n",
    "print('python' == 'Python')"
   ]
  },
  {
   "cell_type": "code",
   "execution_count": null,
   "metadata": {},
   "outputs": [],
   "source": [
    "# True or False?\n",
    "# your answer here =>\n",
    "\n",
    "print(len('python') == len('Python'))"
   ]
  },
  {
   "cell_type": "markdown",
   "metadata": {},
   "source": [
    "### Aufgabe 7\n",
    "\n",
    "Speichern Sie mit `len()` die Länge des Strings, den Sie in Aufgabe 5 einer Variablen zugewiesen haben, in einer eigenen Variable. Prüfen Sie mittels `if-elif-else`, ob die Länge größer, kleiner oder gleich der Anzahl von 10 Buchstaben ist und geben entsprechende `print()`-Statements aus."
   ]
  },
  {
   "cell_type": "code",
   "execution_count": null,
   "metadata": {},
   "outputs": [],
   "source": []
  },
  {
   "cell_type": "markdown",
   "metadata": {},
   "source": [
    "## Schleifen\n",
    "\n",
    "### Aufgabe 8\n",
    "\n",
    "Prüfen Sie mit einer `for`-Schleife, welche Zahlen zwischen 1 und 100 durch 3 teilbar sind und geben diese Zahlen aus. Hilfreich ist hier der Modulo-Operator `%`, der den Rest einer Division ausgibt."
   ]
  },
  {
   "cell_type": "code",
   "execution_count": null,
   "metadata": {},
   "outputs": [],
   "source": []
  },
  {
   "cell_type": "markdown",
   "metadata": {},
   "source": [
    "### Aufgabe 9\n",
    "\n",
    "Weisen Sie einer Variablen eine Zeichenkette zu. Prüfen Sie mit Hilfe einer `for`-Schleife und einer `if`-Anweisung, ob Vokale in der Zeichenkette enthalten sind und geben diese aus. \n",
    " "
   ]
  },
  {
   "cell_type": "markdown",
   "metadata": {},
   "source": []
  }
 ],
 "metadata": {
  "kernelspec": {
   "display_name": "Python 3 (ipykernel)",
   "language": "python",
   "name": "python3"
  },
  "language_info": {
   "codemirror_mode": {
    "name": "ipython",
    "version": 3
   },
   "file_extension": ".py",
   "mimetype": "text/x-python",
   "name": "python",
   "nbconvert_exporter": "python",
   "pygments_lexer": "ipython3",
   "version": "3.8.13"
  },
  "vscode": {
   "interpreter": {
    "hash": "4cab2e3c59f82d31ef33573b56569893ba7388f3e17b6676d60d91498ea89ea5"
   }
  }
 },
 "nbformat": 4,
 "nbformat_minor": 4
}
