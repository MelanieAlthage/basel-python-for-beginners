{
 "cells": [
  {
   "cell_type": "markdown",
   "metadata": {},
   "source": [
    "# Tag 2\n",
    "\n",
    "## Nachbesprechung der Übungsaufgaben"
   ]
  },
  {
   "cell_type": "code",
   "execution_count": null,
   "metadata": {},
   "outputs": [],
   "source": []
  },
  {
   "cell_type": "markdown",
   "metadata": {},
   "source": [
    "## Funktionen\n",
    "\n",
    "### Übungsaufgabe: Funktion zur Ermittlung absoluter Häufigkeiten\n",
    "\n",
    "Definiert eine Funktion `count_absolute_frequency()`, die als Parameter eine Liste von Strings verarbeitet, wie sie zum Beispiel in der Variablen `tokenized_report` gespeichert ist.\n",
    "Wichtig: Die Funktion sollte ein **Dictionary** zurückgeben, das pro Wort (key) die Anzahl seines Vorkommens im Text (value) abspeichert.\n",
    "\n",
    "Auf welche Weise, ihr die Häufigkeit ermittelt, bleibt euch überlassen. Bezieht euch dazu gerne auf eure Überlegungen an Workshop-Tag 1. Nutzt dazu, was wir bislang gelernt haben.\n",
    "\n",
    "**Tipp:** Ihr werdet ggf. For-Schleifen und If-Bedingungen brauchen.\n",
    "\n",
    "**Zeit:** ca. 20 Minuten \n",
    "\n",
    "*Tauscht euch gerne untereinander aus.*"
   ]
  },
  {
   "cell_type": "code",
   "execution_count": 3,
   "metadata": {},
   "outputs": [],
   "source": [
    "# Beispieltext von H-Soz-Kult\n",
    "\n",
    "report = '''Die Editionswissenschaft erlebt nicht zuletzt wegen einer erfolgreichen Kombination von traditionellen Arbeitsweisen mit Methoden der Digital Humanities einen regelrechten Hype. Digitale Methoden drängen sich besonders an den Stellen auf, wo sie eine Überwindung der Beschränkungen des analogen Drucks versprechen. Zugleich zeichnet sich ab, dass mit einem Wechsel zu digitalen Editionsformen nicht nur neue Werkzeuge genutzt werden, sondern dass sich prinzipielle strukturelle Änderungen ergeben: so können analoge Editionen angereichert werden oder Editionen können als Hybrid durch eine gleichwertige digitale und analoge Version repräsentiert werden. Editoren werden angesichts dieser neuen Möglichkeiten vor neue Herausforderungen gestellt. Gleiches gilt für Infrastrukturen, die die Produkte der Editionswissenschaft publizieren und langfristig verfügbar machen sollen. Grundlegende Fragen der Qualitätsmessung und -bewertung, der Arbeitsorganisation, Vernetzung und Distribution müssen bei der digitalen Editionswissenschaft anders bzw. neu gestellt und bewertet werden. Die vom Forschungsverbund Marbach Weimar Wolfenbüttel veranstaltete Tagung “Digitale Metamorphose: Digital Humanities und Editionswissenschaft” betrachtete diese neuen Möglichkeiten kritisch und ging dabei auch der Frage nach, welche Grenzen und Gefahren es jenseits der offensichtlichen Vorteile für die Editionswissenschaft gibt. Den Auftakt der Tagung bildeten die Eröffnungsvorträge von BODO PLACHTA (Amsterdam) und JOÃO DIONÍSIO (Lissabon). Plachta wies auf die Bedeutung von philologischen Standards für die Editionsarbeit hin und stellte diese in ihrer historischen Entwicklung dar. Die aus dieser Entwicklung hervorgegangen editorischen Praktiken sollten auch im digitalen Medium gepflegt und weiterentwickelt werden. Die Vorteile des Digitalen dürfen nicht zu einem blinden Technikvertrauen führen, sondern müssen mit den traditionellen Qualitätsansprüchen der Editionswissenschaft kombiniert werden. Dionísio betonte die stetig wachsende Internationalität der Editionswissenschaft, die durch digitale Methoden und insbesondere durch neue Kommunikationsformen gefördert wird. Er beschrieb dabei die digitale Transformation der Editionswissenschaft in verschiedensten Bereichen wie dem Akt des Lesens, der institutionellen Kooperation, der Konstruktion und Interpretation von Textbedeutung und Textverstehen. Diesen Wandel skizzierte der Beiträger an den Beispielen der Archive und Gedächtnisinstitutionen sowie an den philologischen Netzwerken und wissenschaftlichen Verlagen. Austausch und Kooperationen werden in Zukunft gänzlich neue Editionsvorhaben ermöglichen und die Vernetzung über Sprach- und Landesgrenzen hinweg fördern. HEINZ-WERNER KRAMSKI (Marbach) eröffnete das erste Panel mit einem Beitrag über die Bestanderhaltung von digitalen Archivalien am Beispiel des Nachlasses des Literaturwissenschaftlers und Medientheoretikers Friedrich Kittler. Dabei verdeutlichte der Beiträger die vielfältigen Herausforderungen, die digitale Nachlässe über veraltete oder proprietäre Datei- und Textformate hinaus mit sich bringen. Gebrauchsspuren an Hardware, verschmutzte Datenträger oder selbst geschriebene Software der ehemaligen Anwender sind einige der sehr anschaulichen Fallbeispiele, die im Beitrag erwähnt wurden. SYBILLE SÖRING (Göttingen) stellte Textgrid und DARIAH als Infrastrukturen für digitale Editionen vor.[1] Textgrid stellt eine Arbeitsoberfläche für das – auch kollaborative – Auszeichnen von Text nach XML/TEI-P5 ebenso zur Verfügung als auch zahlreiche dabei unterstützende und analysierende Tools. DARIAH-DE unterstützt digital arbeitende Geistes- und Kulturwissenschaftler mit Digital-Humanities-Tools und fachwissenschaftlichen Diensten. Anhand des Editionsprojektes “Theodor Fontane: Notizbücher. Digitale genetisch-kritische und kommentierte Edition” erläutere die Referentin das Zusammenspiel der Infrastrukturen in den Bereichen der Erstellung, Präsentation und der nachhaltigen Verfügbarkeit.[2] PETER ANDORFER (Wien) erläuterte am Beispiel seines Editionsprojektes zur Weltbeschreibung des Tiroler Bauerns Leonhard Millinger die Vor- und Nachteile der Wolfenbütteler Digitalen Bibliothek (WDB) als Infrastruktur für die Erstellung einer digitalen Edition.[3] Die Rolle der Infrastruktur sieht Andorfer in einer generellen Unterstützung des Editionsvorhaben. Infrastrukturen können aber dem Editor nicht alle technischen und Kodierungsfragen und -entscheidungen abnehmen, eine “One-fits-all”-Lösung wird es alleine aufgrund der Spezifika von digitalen Editionen nicht geben können. Darüber hinaus betonte Andorfer, dass es für Editionen viel wichtiger sei, technische Ansprechpartner zu haben, die das Editionsvorhaben im Rahmen der gewählten Infrastruktur betreuen. Im ersten Teil seines Vortrages stellte ROLAND S. KAMZELAK (Marbach) die Hybrid-Edition der Tagebücher Harry Graf Kesslers vor. Ausgehend von der Edition wurde im zweiten Teil des Vortrags die interne Normdatenbank AMIE des Deutschen Literatur Archivs Marbach vorgestellt.[4] Die editionsübergreifende Datenbank ermöglicht es, direkt von den in ihr verzeichneten Registern in die Textstelle der jeweiligen Edition zu springen. Darüber hinaus verzeichnet die Datenbank die einzelnen Editionsrichtlinien. Der Vortrag zeigte überzeugend auf, wie arbeitserleichternd eine zentrale Datenhaltung und -pflege in Verbindung mit Normdaten für Editionsprojekte sein kann. In ihrem Beitrag stellte URSULA KUNDERT (Wolfenbüttel) anhand des Forschungsprojekts “Mediengeschichte der Psalmen” das Zusammenspiel von verschiedenen Infrastrukturen, zentralen Nachweissystemen und Social-Media-Angeboten dar. So entstand ein Abbild eines virtuellen Arbeitsplatzes, der sich auf verschiedene digitale Angebote erstreckt und das digitale Forschungsvorhaben mit dem Forschungsprofil des jeweiligen Forschers und dessen Einspeisung in fachspezifische Netzwerke unterstützt. Darüber hinaus wurde die Wichtigkeit einer intellektuellen Verbindung ausgehend von digitalen Editionen thematisiert. Nach dem ersten Panel fanden Kurzvorstellungen aktueller digitaler Editionsprojekte statt. HARTMUT BEYER (Wolfenbüttel) stellte die Edition des Tagebuches von Christian II. von Anhalt-Bernburg (1599–1656) vor. Die digitale Neuedition der deutschsprachigen Schwesternbücher des 14. Jahrhunderts wurde von CARINA HOFF (Trier) präsentiert. Danach stellten JULIA SCHMIDT-FUNKE und MARTIN PRELL (beide Jena) die digitale Edition der Briefe Erdmuthe Benignas von Reuß-Ebersdorf (1670–1732) vor. Das zweite Panel der Tagung eröffnete INGA HANNA RALLE (Wolfenbüttel) mit einem Vortrag, der einerseits das digitale Editionsvorhaben des Tagebuchs von Herzog August dem Jüngeren von Braunschweig-Wolfenbüttel und das damit in Verbindung stehende Selbstzeugnis-Repertorium der Herzog August Bibliothek vorstellte. Anderseits thematisierte der Vortrag die Bedeutung der Benutzbarkeit, Nutzerführung und Lesbarkeit von digitalen Editionen. Diese für die Nutzung von digitalen Editionen elementaren Faktoren werden noch nicht ausreichend bei der Editionserstellung berücksichtigt und stehen häufig hinter der Implementierung neuer technischer Methoden zurück. In dem nächsten Beitrag stellte ULRIKE HENNY (Köln) Reviewingverfahren für digitale Editionen vor. Dabei wurde die Rezensionszeitschrift RIDE vorgestellt und der von der Fachredaktion der Zeitschrift entwickelte Kriterienkatalog zur Besprechung von digitalen Editionen zur Diskussion gestellt.[5] Während Qualitätskriterien, die auch bei gedruckten Editionen angewendet werden, bei der Bewertung von digitalen Editionen adaptiert werden können, kommen zusätzlich noch weitere Faktoren hinzu, die vor allem aus dem Bereich der technischen Standards stammen. Zu Beginn des dritten Panels zeigte GEORG VOGELER (Graz) am Beispiel mittelalterlicher Rechnungsbücher das Potential der Digital Humanities und der sematischen Modellierung auf. Durch die Repräsentation von Text im Bild, durch das Mark-up von sprachlichen Informationen und die Auszeichnung von Bedeutung können unterschiedliche Zugänge zu editionskritischen Inhalten ermöglicht werden. Je nach wissenschaftlichem Blickwinkel schließen sich divergierende Ebenen somit nicht aus, sondern eröffnen neue Potenziale. Der Vortrag von JÖRG WETTLAUFER (Göttingen) ging auf die Möglichkeiten des Semantic Webs für die digitale Editionswissenschaft ein. Anhand zahlreicher Tools und Initiativen (LOD, RDF/SPARQL, Wikidata) zeigte er beispielsweise, wie eine automatische Generierung von Verknüpfungen aussehen kann, wo aber auch gleichzeitig Defizite der Qualitätssicherung und Herausforderungen liegen. Mit einem musikwissenschaftlichen Beitrag brachte JOACHIM VEIT (Paderborn) eine weitere fachliche Facette der digitalen Editionswissenschaft ein. Anhand von ausgewählten Beispielen wurde die Umsetzung von Musikeditionen demonstriert und auch die verschiedenen Entwicklungsschritte von ersten Prototypen bis zum aktuellen Stand aufgezeigt. Es stellte sich heraus, dass insbesondere das Feld der Musikeditionen, hier vor allem im Bereich der Visualisierung, von den Digital Humanities profitiert. GERRIT BRÜNING (Frankfurt am Main) diskutierte in seinem Beitrag das Verhältnis von Material und dessen digitaler Aufbereitung anhand der digitalen Faust-Edition.[6] Er thematisierte dabei das Verhältnis von analoger und digitaler Edition hinsichtlich Standards und kanonischer Vorbilder, die hier beispielsweise im Fall der “Weimarer Ausgabe” vorliegen. Es wurde deutlich, dass das Digitale hier Lösungen für die differenzierte Darstellung (Text-Genese vs. Dokument-Genese) bieten kann. Auch das dritte Panel schloss mit der Kurzvorstellung aktueller Editionsprojekte. BRITTA KLOSTERBERG (Halle) präsentierte die Aufbereitung der Tagebücher im Francke-Portal. CLAUDIA BAMBERG und JOCHEN STROBER (beide Marburg) zeigten den aktuellen Stand und Perspektiven bei der Briefedition A. W. Schlegels. Den Abschluss markierte die Präsentation von FRANZISKA DIEHR (Göttingen) zu einem Editionsprojekt, das Maya-Hieroglyphentexte digital aufbereitet. Die Tagungsteilnehmer waren sich darin einig, dass die Editionswissenschaft auf vielfache Weise von den Digital Humanities profitiert und sich durch die digitalen Methoden neue Editionsvorhaben eröffnen. Die Plenumsdiskussionen zwischen der Tagungsleitung und den Keynotespeakern machte aber auch deutlich, dass die grundsätzlichen, an digitale Editionsvorhaben zu stellenden Qualitätsansprüche sich an den traditionellen Standards orientieren müssen. Diese Kombination stellt die Editoren aber auch die Infrastruktureinrichtungen vor neue Herausforderungen. Dabei wurden insbesondere in den Bereichen der Qualitätsmessung, der Nachhaltigkeit, der Dissemination und der Visualisierung noch weiteres Potenzial für zukünftige Tagungen ausgemacht. Aber gerade diese Ergebnisse zeigen, dass es keine Trennung von analogen und digitalen Editoren geben darf, sondern dass die erfolgreiche Metamorphose der Editionswissenschaft in das digitale Zeitalter eine gemeinsame Aufgabe ist.'''\n",
    "\n",
    "# Liste von Wörtern erzeugen\n",
    "tokenized_report = report.split()"
   ]
  }
 ],
 "metadata": {
  "kernelspec": {
   "display_name": "Python 3 (ipykernel)",
   "language": "python",
   "name": "python3"
  },
  "language_info": {
   "codemirror_mode": {
    "name": "ipython",
    "version": 3
   },
   "file_extension": ".py",
   "mimetype": "text/x-python",
   "name": "python",
   "nbconvert_exporter": "python",
   "pygments_lexer": "ipython3",
   "version": "3.8.13"
  },
  "vscode": {
   "interpreter": {
    "hash": "ab2bc7d93ca595a8547f73d141c9dac102da280dfea0255e9d7a3267ba9f4e63"
   }
  }
 },
 "nbformat": 4,
 "nbformat_minor": 4
}
