{
 "cells": [
  {
   "cell_type": "markdown",
   "metadata": {},
   "source": [
    "# Code zum Workshop"
   ]
  },
  {
   "cell_type": "code",
   "execution_count": 5,
   "metadata": {},
   "outputs": [
    {
     "name": "stdout",
     "output_type": "stream",
     "text": [
      "Hello World!\n"
     ]
    }
   ],
   "source": [
    "print('Hello World!')"
   ]
  },
  {
   "cell_type": "markdown",
   "metadata": {},
   "source": [
    "## Ziel:\n",
    "\n",
    "Mit Hilfe einer wiederverwenbare Funktion Worthäufigkeiten in einem Text zählen.\n",
    "\n",
    "Wie können wir vorgehen?\n",
    "\n",
    "Wie könnte das Vorgehen in Pseudocode aussehen?\n",
    "\n",
    "Finale Funktion:"
   ]
  },
  {
   "cell_type": "code",
   "execution_count": null,
   "metadata": {},
   "outputs": [],
   "source": [
    "def count_absolute_frequency(tokenized_text):\n",
    "    \"\"\"Parameter: list of strings\n",
    "    The function returns a dictionary object containing the absolute frequency for\n",
    "    each unique token in a given text.\"\"\"\n",
    "\n",
    "    # initialize empty dictionary\n",
    "    frequencies = {}\n",
    "\n",
    "    # compute absolute frequency\n",
    "    for token in tokenized_text:\n",
    "        if token in frequencies:\n",
    "            frequencies[token] = frequencies[token] + 1\n",
    "        else:\n",
    "            frequencies[token] = 1\n",
    "            \n",
    "    return frequencies"
   ]
  },
  {
   "cell_type": "markdown",
   "metadata": {},
   "source": [
    "## Strings"
   ]
  },
  {
   "cell_type": "code",
   "execution_count": 2,
   "metadata": {},
   "outputs": [
    {
     "name": "stdout",
     "output_type": "stream",
     "text": [
      "42\n"
     ]
    }
   ],
   "source": [
    "# assign value 42 to variable x\n",
    "\n",
    "x = 42 # variable x with value 42\n",
    "print(x) # return x with print()-function"
   ]
  },
  {
   "cell_type": "code",
   "execution_count": 3,
   "metadata": {},
   "outputs": [
    {
     "data": {
      "text/plain": [
       "int"
      ]
     },
     "execution_count": 3,
     "metadata": {},
     "output_type": "execute_result"
    }
   ],
   "source": [
    "# show datatype with type()\n",
    "type(x)"
   ]
  },
  {
   "cell_type": "code",
   "execution_count": 4,
   "metadata": {},
   "outputs": [
    {
     "name": "stdout",
     "output_type": "stream",
     "text": [
      "3.5\n",
      "<class 'float'>\n"
     ]
    }
   ],
   "source": [
    "# . in float (instead of , !)\n",
    "\n",
    "c = 3.5\n",
    "print(c)\n",
    "print(type(c))"
   ]
  },
  {
   "cell_type": "code",
   "execution_count": 6,
   "metadata": {},
   "outputs": [
    {
     "name": "stdout",
     "output_type": "stream",
     "text": [
      "Martin\n",
      "<class 'str'>\n"
     ]
    }
   ],
   "source": [
    "name = 'Martin'\n",
    "print(name)\n",
    "print(type(name))"
   ]
  },
  {
   "cell_type": "code",
   "execution_count": 7,
   "metadata": {},
   "outputs": [
    {
     "name": "stdout",
     "output_type": "stream",
     "text": [
      "42\n",
      "<class 'str'>\n"
     ]
    }
   ],
   "source": [
    "number_as_string = '42'\n",
    "print(number_as_string)\n",
    "print(type(number_as_string))"
   ]
  },
  {
   "cell_type": "code",
   "execution_count": 8,
   "metadata": {},
   "outputs": [
    {
     "name": "stdout",
     "output_type": "stream",
     "text": [
      "42\n",
      "<class 'int'>\n"
     ]
    }
   ],
   "source": [
    "# type casting\n",
    "number_as_string_to_int = int(number_as_string)\n",
    "print(number_as_string_to_int)\n",
    "print(type(number_as_string_to_int))"
   ]
  },
  {
   "cell_type": "code",
   "execution_count": 21,
   "metadata": {},
   "outputs": [],
   "source": [
    "sentence = \"Ich studiere Geschichtswissenschaften in Basel.\""
   ]
  },
  {
   "cell_type": "code",
   "execution_count": 23,
   "metadata": {},
   "outputs": [
    {
     "name": "stdout",
     "output_type": "stream",
     "text": [
      "47\n"
     ]
    }
   ],
   "source": [
    "# len()\n",
    " \n",
    "print(len(sentence)) # returns length of string incl. whitespaces"
   ]
  },
  {
   "cell_type": "code",
   "execution_count": 24,
   "metadata": {},
   "outputs": [
    {
     "name": "stdout",
     "output_type": "stream",
     "text": [
      "ich studiere geschichtswissenschaften in basel.\n"
     ]
    }
   ],
   "source": [
    "# lower()\n",
    "\n",
    "print(sentence.lower()) # lowercase all characters"
   ]
  },
  {
   "cell_type": "code",
   "execution_count": 26,
   "metadata": {},
   "outputs": [
    {
     "name": "stdout",
     "output_type": "stream",
     "text": [
      "Wie oft kommt \"s\" im Satz vor? =  7\n",
      "Wie oft kommt \"Basel\" im Satz vor? =  1\n"
     ]
    }
   ],
   "source": [
    "# counts()\n",
    "\n",
    "print('Wie oft kommt \"s\" im Satz vor? = ', sentence.count('s')) # counts substring in string\n",
    "\n",
    "print('Wie oft kommt \"Basel\" im Satz vor? = ', sentence.count('Basel')) # counts substring in string"
   ]
  },
  {
   "cell_type": "code",
   "execution_count": 27,
   "metadata": {},
   "outputs": [
    {
     "name": "stdout",
     "output_type": "stream",
     "text": [
      "Ich studiere Geschichtswissenschaften in Berlin.\n"
     ]
    }
   ],
   "source": [
    "# replace()\n",
    "\n",
    "print(sentence.replace('Basel', 'Berlin')) # replaces substring by substring"
   ]
  },
  {
   "cell_type": "code",
   "execution_count": 28,
   "metadata": {},
   "outputs": [
    {
     "name": "stdout",
     "output_type": "stream",
     "text": [
      "['Ich', 'studiere', 'Geschichtswissenschaften', 'in', 'Basel.']\n",
      "<class 'list'>\n"
     ]
    }
   ],
   "source": [
    "# split()\n",
    "\n",
    "print(sentence.split()) # splits string at whitespace and returns substrings as elements in a list\n",
    "print(type(sentence.split()))"
   ]
  },
  {
   "cell_type": "code",
   "execution_count": 30,
   "metadata": {},
   "outputs": [
    {
     "name": "stdout",
     "output_type": "stream",
     "text": [
      "['__add__', '__class__', '__contains__', '__delattr__', '__dir__', '__doc__', '__eq__', '__format__', '__ge__', '__getattribute__', '__getitem__', '__getnewargs__', '__gt__', '__hash__', '__init__', '__init_subclass__', '__iter__', '__le__', '__len__', '__lt__', '__mod__', '__mul__', '__ne__', '__new__', '__reduce__', '__reduce_ex__', '__repr__', '__rmod__', '__rmul__', '__setattr__', '__sizeof__', '__str__', '__subclasshook__', 'capitalize', 'casefold', 'center', 'count', 'encode', 'endswith', 'expandtabs', 'find', 'format', 'format_map', 'index', 'isalnum', 'isalpha', 'isascii', 'isdecimal', 'isdigit', 'isidentifier', 'islower', 'isnumeric', 'isprintable', 'isspace', 'istitle', 'isupper', 'join', 'ljust', 'lower', 'lstrip', 'maketrans', 'partition', 'removeprefix', 'removesuffix', 'replace', 'rfind', 'rindex', 'rjust', 'rpartition', 'rsplit', 'rstrip', 'split', 'splitlines', 'startswith', 'strip', 'swapcase', 'title', 'translate', 'upper', 'zfill']\n"
     ]
    }
   ],
   "source": [
    "print(dir(str))"
   ]
  },
  {
   "cell_type": "markdown",
   "metadata": {},
   "source": [
    "## `for`-Schleife"
   ]
  },
  {
   "cell_type": "code",
   "execution_count": 2,
   "metadata": {},
   "outputs": [
    {
     "name": "stdout",
     "output_type": "stream",
     "text": [
      "H\n",
      "a\n",
      "l\n",
      "l\n",
      "o\n",
      " \n",
      "W\n",
      "e\n",
      "l\n",
      "t\n",
      "!\n"
     ]
    }
   ],
   "source": [
    "zeichenkette = 'Hallo Welt!'\n",
    "\n",
    "for buchstabe in zeichenkette: \n",
    "    print(buchstabe)"
   ]
  },
  {
   "cell_type": "code",
   "execution_count": 19,
   "metadata": {},
   "outputs": [
    {
     "name": "stdout",
     "output_type": "stream",
     "text": [
      "Index =>  0 \tZeichen => H\n",
      "Index =>  1 \tZeichen => a\n",
      "Index =>  2 \tZeichen => l\n",
      "Index =>  3 \tZeichen => l\n",
      "Index =>  4 \tZeichen => o\n",
      "Index =>  5 \tZeichen =>  \n",
      "Index =>  6 \tZeichen => W\n",
      "Index =>  7 \tZeichen => e\n",
      "Index =>  8 \tZeichen => l\n",
      "Index =>  9 \tZeichen => t\n",
      "Index =>  10 \tZeichen => !\n"
     ]
    }
   ],
   "source": [
    "for i, c in enumerate(zeichenkette): \n",
    "    print('Index => ', i, '\\tZeichen =>',  c)"
   ]
  },
  {
   "cell_type": "code",
   "execution_count": null,
   "metadata": {},
   "outputs": [
    {
     "name": "stdout",
     "output_type": "stream",
     "text": [
      "Number 0\n",
      "Square 0\n",
      "Number 1\n",
      "Square 1\n",
      "Number 2\n",
      "Square 4\n",
      "Number 3\n",
      "Square 9\n",
      "Number 4\n",
      "Square 16\n",
      "Number 5\n",
      "Square 25\n",
      "Number 6\n",
      "Square 36\n",
      "Number 7\n",
      "Square 49\n",
      "Number 8\n",
      "Square 64\n",
      "Number 9\n",
      "Square 81\n"
     ]
    }
   ],
   "source": [
    "for x in range(10):\n",
    "    print('Number', x)\n",
    "    print('Square', x**2)"
   ]
  },
  {
   "cell_type": "markdown",
   "metadata": {},
   "source": [
    "## Indexing and Slicing"
   ]
  },
  {
   "cell_type": "code",
   "execution_count": 5,
   "metadata": {},
   "outputs": [
    {
     "name": "stdout",
     "output_type": "stream",
     "text": [
      "Hallo Welt!\n",
      "a\n"
     ]
    }
   ],
   "source": [
    "print(zeichenkette)\n",
    "print(zeichenkette[1])"
   ]
  },
  {
   "cell_type": "code",
   "execution_count": 4,
   "metadata": {},
   "outputs": [
    {
     "name": "stdout",
     "output_type": "stream",
     "text": [
      "H\n"
     ]
    }
   ],
   "source": [
    "print(zeichenkette[0])"
   ]
  },
  {
   "cell_type": "code",
   "execution_count": 6,
   "metadata": {},
   "outputs": [
    {
     "name": "stdout",
     "output_type": "stream",
     "text": [
      "!\n"
     ]
    }
   ],
   "source": [
    "print(zeichenkette[-1])"
   ]
  },
  {
   "cell_type": "code",
   "execution_count": 7,
   "metadata": {},
   "outputs": [
    {
     "name": "stdout",
     "output_type": "stream",
     "text": [
      "o Welt!\n"
     ]
    }
   ],
   "source": [
    "print(zeichenkette[4:])"
   ]
  },
  {
   "cell_type": "code",
   "execution_count": 9,
   "metadata": {},
   "outputs": [
    {
     "name": "stdout",
     "output_type": "stream",
     "text": [
      "lt!\n"
     ]
    }
   ],
   "source": [
    "print(zeichenkette[-3:])"
   ]
  },
  {
   "cell_type": "code",
   "execution_count": 10,
   "metadata": {},
   "outputs": [
    {
     "name": "stdout",
     "output_type": "stream",
     "text": [
      "llo We\n"
     ]
    }
   ],
   "source": [
    "print(zeichenkette[2:8])"
   ]
  },
  {
   "cell_type": "code",
   "execution_count": 11,
   "metadata": {},
   "outputs": [
    {
     "name": "stdout",
     "output_type": "stream",
     "text": [
      "HloWl!\n"
     ]
    }
   ],
   "source": [
    "print(zeichenkette[::2])"
   ]
  },
  {
   "cell_type": "code",
   "execution_count": 12,
   "metadata": {},
   "outputs": [
    {
     "name": "stdout",
     "output_type": "stream",
     "text": [
      "!tleW ollaH\n"
     ]
    }
   ],
   "source": [
    "print(zeichenkette[::-1])"
   ]
  },
  {
   "cell_type": "markdown",
   "metadata": {},
   "source": [
    "## `if-else`-Anweisungen"
   ]
  },
  {
   "cell_type": "markdown",
   "metadata": {},
   "source": [
    "### Boolsche Werte und Vergleichsoperatoren"
   ]
  },
  {
   "cell_type": "code",
   "execution_count": 13,
   "metadata": {},
   "outputs": [
    {
     "name": "stdout",
     "output_type": "stream",
     "text": [
      "True\n"
     ]
    }
   ],
   "source": [
    "print('Hello' in 'Hello World!')"
   ]
  },
  {
   "cell_type": "code",
   "execution_count": 14,
   "metadata": {},
   "outputs": [
    {
     "name": "stdout",
     "output_type": "stream",
     "text": [
      "False\n"
     ]
    }
   ],
   "source": [
    "print('Moin' in 'Hello World!')"
   ]
  },
  {
   "cell_type": "code",
   "execution_count": 15,
   "metadata": {},
   "outputs": [
    {
     "name": "stdout",
     "output_type": "stream",
     "text": [
      "True\n"
     ]
    }
   ],
   "source": [
    "print('Moin' not in 'Hello World!')"
   ]
  },
  {
   "cell_type": "code",
   "execution_count": 16,
   "metadata": {},
   "outputs": [
    {
     "name": "stdout",
     "output_type": "stream",
     "text": [
      "True\n"
     ]
    }
   ],
   "source": [
    "print(5 < 10)"
   ]
  },
  {
   "cell_type": "code",
   "execution_count": 17,
   "metadata": {},
   "outputs": [
    {
     "name": "stdout",
     "output_type": "stream",
     "text": [
      "False\n"
     ]
    }
   ],
   "source": [
    "print(5 > 10)"
   ]
  },
  {
   "cell_type": "code",
   "execution_count": 18,
   "metadata": {},
   "outputs": [
    {
     "name": "stdout",
     "output_type": "stream",
     "text": [
      "True\n"
     ]
    }
   ],
   "source": [
    "print('Hallo' == 'Hallo')"
   ]
  },
  {
   "cell_type": "code",
   "execution_count": 19,
   "metadata": {},
   "outputs": [
    {
     "name": "stdout",
     "output_type": "stream",
     "text": [
      "True\n"
     ]
    }
   ],
   "source": [
    "print(42 == 42)"
   ]
  },
  {
   "cell_type": "code",
   "execution_count": null,
   "metadata": {},
   "outputs": [],
   "source": [
    "print(5 != 10)"
   ]
  },
  {
   "cell_type": "code",
   "execution_count": 20,
   "metadata": {},
   "outputs": [
    {
     "name": "stdout",
     "output_type": "stream",
     "text": [
      "Die Person hat einen Adelstitel.\n"
     ]
    }
   ],
   "source": [
    "person = 'Otto von Bismarck'\n",
    "\n",
    "if 'von' in person:\n",
    "    print('Die Person hat einen Adelstitel.')\n",
    "else:\n",
    "    print('Die Person hat keinen Adelstitlel.')"
   ]
  },
  {
   "cell_type": "code",
   "execution_count": 21,
   "metadata": {},
   "outputs": [
    {
     "name": "stdout",
     "output_type": "stream",
     "text": [
      "Dies ist ein langes Wort.\n"
     ]
    }
   ],
   "source": [
    "word = 'Maskentragepflicht'\n",
    "\n",
    "if len(word) > 15:\n",
    "    print('Dies ist ein langes Wort.')\n",
    "\n",
    "elif len(word) < 5:\n",
    "    print('Dies ist ein kurzes Wort.')\n",
    "\n",
    "else:\n",
    "    print(f'Das Wort ist {len(word)} Buchstaben lang.')"
   ]
  },
  {
   "cell_type": "code",
   "execution_count": 22,
   "metadata": {},
   "outputs": [
    {
     "name": "stdout",
     "output_type": "stream",
     "text": [
      "Die Zeichenkette ist enthalten.\n"
     ]
    }
   ],
   "source": [
    "greeting = 'Hello World!'\n",
    "sub_string = 'Hello'\n",
    "\n",
    "if sub_string in greeting:\n",
    "    print('Die Zeichenkette ist enthalten.')\n",
    "else:\n",
    "    print('Leider ist die Zeichenkette nicht enthalten.')"
   ]
  },
  {
   "cell_type": "code",
   "execution_count": 24,
   "metadata": {},
   "outputs": [
    {
     "name": "stdout",
     "output_type": "stream",
     "text": [
      "Die Zeichenkette ist enthalten.\n"
     ]
    }
   ],
   "source": [
    "complete_string = greeting\n",
    "\n",
    "if complete_string in greeting:\n",
    "    print('Die Zeichenkette ist enthalten.')\n",
    "\n",
    "elif complete_string == greeting:\n",
    "    print('Die Zeichenkette ist mit der Grußformel identisch.')\n",
    "\n",
    "else:\n",
    "    print('Leider ist die Zeichenkette nicht enthalten.')"
   ]
  },
  {
   "cell_type": "code",
   "execution_count": 23,
   "metadata": {},
   "outputs": [
    {
     "name": "stdout",
     "output_type": "stream",
     "text": [
      "Die Zeichenkette ist mit der Grußformel identisch.\n"
     ]
    }
   ],
   "source": [
    "# correct order\n",
    "\n",
    "complete_string = greeting\n",
    "\n",
    "if  complete_string == greeting:\n",
    "    print('Die Zeichenkette ist mit der Grußformel identisch.')\n",
    "\n",
    "elif complete_string in greeting:\n",
    "    print('Die Zeichenkette ist enthalten.')\n",
    "\n",
    "else:\n",
    "    print('Leider ist die Zeichenkette nicht enthalten.')"
   ]
  },
  {
   "cell_type": "markdown",
   "metadata": {},
   "source": [
    "## List "
   ]
  },
  {
   "cell_type": "code",
   "execution_count": 25,
   "metadata": {},
   "outputs": [
    {
     "name": "stdout",
     "output_type": "stream",
     "text": [
      "['egg', 'banana', 'bread', 'cheese']\n"
     ]
    }
   ],
   "source": [
    "# list containing strings\n",
    "list_strings = ['egg', 'banana', 'bread', 'cheese']\n",
    "print(list_strings)"
   ]
  },
  {
   "cell_type": "code",
   "execution_count": 26,
   "metadata": {},
   "outputs": [
    {
     "name": "stdout",
     "output_type": "stream",
     "text": [
      "['Hello World!']\n",
      "['Hello World!', [1, 2, 3, 4]]\n",
      "['Hello World!', [1, 2, 3, 4], 42]\n"
     ]
    }
   ],
   "source": [
    "# append item to list\n",
    "another_list = []\n",
    "\n",
    "another_list.append('Hello World!')\n",
    "print(another_list)\n",
    "\n",
    "another_list.append([1, 2, 3, 4])\n",
    "print(another_list)\n",
    "\n",
    "another_list.append(42)\n",
    "print(another_list)"
   ]
  },
  {
   "cell_type": "code",
   "execution_count": 27,
   "metadata": {},
   "outputs": [
    {
     "name": "stdout",
     "output_type": "stream",
     "text": [
      "egg\n"
     ]
    }
   ],
   "source": [
    "print(list_strings[0])"
   ]
  },
  {
   "cell_type": "code",
   "execution_count": 28,
   "metadata": {},
   "outputs": [
    {
     "name": "stdout",
     "output_type": "stream",
     "text": [
      "cheese\n"
     ]
    }
   ],
   "source": [
    "print(list_strings[-1])"
   ]
  },
  {
   "cell_type": "code",
   "execution_count": 29,
   "metadata": {},
   "outputs": [
    {
     "data": {
      "text/plain": [
       "3"
      ]
     },
     "execution_count": 29,
     "metadata": {},
     "output_type": "execute_result"
    }
   ],
   "source": [
    "another_list[1][2]"
   ]
  },
  {
   "cell_type": "markdown",
   "metadata": {},
   "source": [
    "## Dictionary"
   ]
  },
  {
   "cell_type": "code",
   "execution_count": 33,
   "metadata": {},
   "outputs": [
    {
     "name": "stdout",
     "output_type": "stream",
     "text": [
      "{'Cluny': 910, 'Maria Laach': 1093, 'Plankstetten': 1129, 'St. Hildegard': 1904, 'Ottobeuren': 'unbekannt'}\n"
     ]
    }
   ],
   "source": [
    "founding_date = {'Cluny': 910,\n",
    "                 'Maria Laach': 1093,\n",
    "                 'Plankstetten': 1129,\n",
    "                 'St. Hildegard': 1904,\n",
    "                 'Ottobeuren': 'unbekannt'}\n",
    "\n",
    "print(founding_date)"
   ]
  },
  {
   "cell_type": "code",
   "execution_count": 34,
   "metadata": {},
   "outputs": [
    {
     "name": "stdout",
     "output_type": "stream",
     "text": [
      "910\n"
     ]
    }
   ],
   "source": [
    "print(founding_date['Cluny'])"
   ]
  },
  {
   "cell_type": "code",
   "execution_count": 35,
   "metadata": {},
   "outputs": [
    {
     "name": "stdout",
     "output_type": "stream",
     "text": [
      "unbekannt\n"
     ]
    }
   ],
   "source": [
    "print(founding_date['Ottobeuren'])"
   ]
  },
  {
   "cell_type": "code",
   "execution_count": 36,
   "metadata": {},
   "outputs": [
    {
     "name": "stdout",
     "output_type": "stream",
     "text": [
      "{'Cluny': 910, 'Maria Laach': 1093, 'Plankstetten': 1129, 'St. Hildegard': 1904, 'Ottobeuren': 'unbekannt', 'Oelinghausen': 1174}\n"
     ]
    }
   ],
   "source": [
    "founding_date['Oelinghausen'] = 1174\n",
    "print(founding_date)"
   ]
  },
  {
   "cell_type": "markdown",
   "metadata": {},
   "source": [
    "## Funktionen"
   ]
  },
  {
   "cell_type": "code",
   "execution_count": 39,
   "metadata": {},
   "outputs": [],
   "source": [
    "def make_square(number):                            # Funktionskopf und Argument\n",
    "                                                    # eingerückter Funktionskörper\n",
    "    '''Function to calculate square of number'''    # Doc-String\n",
    "\n",
    "    output = number**2                               \n",
    "\n",
    "    return output                                   # Rückgabe"
   ]
  },
  {
   "cell_type": "code",
   "execution_count": 38,
   "metadata": {},
   "outputs": [
    {
     "data": {
      "text/plain": [
       "25"
      ]
     },
     "execution_count": 38,
     "metadata": {},
     "output_type": "execute_result"
    }
   ],
   "source": [
    "make_square(5)                          # Funktionsaufruf"
   ]
  }
 ],
 "metadata": {
  "kernelspec": {
   "display_name": "Python 3.9.7 ('base')",
   "language": "python",
   "name": "python3"
  },
  "language_info": {
   "codemirror_mode": {
    "name": "ipython",
    "version": 3
   },
   "file_extension": ".py",
   "mimetype": "text/x-python",
   "name": "python",
   "nbconvert_exporter": "python",
   "pygments_lexer": "ipython3",
   "version": "3.9.7"
  },
  "orig_nbformat": 4,
  "vscode": {
   "interpreter": {
    "hash": "4cab2e3c59f82d31ef33573b56569893ba7388f3e17b6676d60d91498ea89ea5"
   }
  }
 },
 "nbformat": 4,
 "nbformat_minor": 2
}
