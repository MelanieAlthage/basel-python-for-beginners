{
 "cells": [
  {
   "cell_type": "markdown",
   "id": "6609d41e-4471-4bb5-ad4d-70299fe550eb",
   "metadata": {},
   "source": [
    "## Dies ist eine Notebook!\n",
    "\n",
    "Hier steht normaler Text."
   ]
  },
  {
   "cell_type": "code",
   "execution_count": 2,
   "id": "c807aea4-7baa-4c95-8a78-e4393eb90262",
   "metadata": {},
   "outputs": [
    {
     "name": "stdout",
     "output_type": "stream",
     "text": [
      "Hello World!\n"
     ]
    }
   ],
   "source": [
    "print(\"Hello World!\")"
   ]
  },
  {
   "cell_type": "markdown",
   "id": "43c6e48f-7aaa-422a-ad5b-a7c6620bf011",
   "metadata": {},
   "source": [
    "## Algorithmisches Denken: Frequenzanalyse\n",
    "\n",
    "Überlegen Sie, welche Arbeitsschritte nötig sind, um die Häufigkeite der Wörter eines gegebenen Textes zu ermitteln. Zerlegen Sie das Problem in einzelne Arbeitsschritte und notieren Sie diese Reihe der Reihe nach als Text. Das ist im Prinzip die Basis, auf der später konkreter Code entwickelt werden kann. \n",
    "\n",
    "Wir sammeln anschließend Ihre Überlegungen.\n",
    "\n",
    "**Zeit:** 5 Minuten"
   ]
  },
  {
   "cell_type": "markdown",
   "id": "56d447b2-6fdc-48a5-856a-675b970df5ff",
   "metadata": {},
   "source": [
    "**Notizen** zu den Rückmeldungen\n",
    "\n",
    "* Text definieren\n",
    "* Wörter definieren, die gezählt werden sollen\n",
    "* Zahlenbereichen der ist \n",
    "\n",
    "\n",
    "* Text einlesen \n",
    "* in Worte aufbrechen\n",
    "* Totale Anzahl berechnen => zählen\n",
    "* definieren, wie oft Zahlen vorkommen\n",
    "\n",
    "* Text als Digitalisat erfassen und in das entsprechende Datenformat bringen\n",
    "\n",
    "* Text Wort für Wort durchgehen\n",
    "* Bedingung erstellen, wenn ein Wort zweites Mal vorkommt\n"
   ]
  },
  {
   "cell_type": "code",
   "execution_count": 5,
   "id": "57f7e74f-6372-46c4-a6b7-4c28c51889c6",
   "metadata": {},
   "outputs": [],
   "source": [
    "def count_absolute_frequency(tokenized_text):\n",
    "    \"\"\"Parameter: list of strings\n",
    "    The function returns a dictionary object containing the absolute frequency for\n",
    "    each unique token in a given text.\"\"\"\n",
    "\n",
    "    # initialize empty dictionary\n",
    "    frequencies = {}\n",
    "\n",
    "    # compute absolute frequency\n",
    "    for token in tokenized_text:\n",
    "        if token in frequencies:\n",
    "            frequencies[token] = frequencies[token] + 1\n",
    "        else:\n",
    "            frequencies[token] = 1\n",
    "            \n",
    "    return frequencies"
   ]
  },
  {
   "cell_type": "code",
   "execution_count": 8,
   "id": "84c84f65-9eb8-4c96-9040-60dd51a5a9e4",
   "metadata": {},
   "outputs": [
    {
     "name": "stdout",
     "output_type": "stream",
     "text": [
      "42\n"
     ]
    }
   ],
   "source": [
    "# assign value 42 to variable x\n",
    "\n",
    "x = 42\n",
    "print(x)"
   ]
  },
  {
   "cell_type": "code",
   "execution_count": 9,
   "id": "2ca4c79b-224a-48f8-9243-674ef68357db",
   "metadata": {},
   "outputs": [
    {
     "name": "stdout",
     "output_type": "stream",
     "text": [
      "42\n"
     ]
    }
   ],
   "source": [
    "print(x)"
   ]
  },
  {
   "cell_type": "code",
   "execution_count": 11,
   "id": "c187c5b4-2105-4d43-8a88-b2322694e0b5",
   "metadata": {},
   "outputs": [
    {
     "data": {
      "text/plain": [
       "int"
      ]
     },
     "execution_count": 11,
     "metadata": {},
     "output_type": "execute_result"
    }
   ],
   "source": [
    "type(x)"
   ]
  },
  {
   "cell_type": "markdown",
   "id": "d0dae833-ec9e-454e-8389-243038101f56",
   "metadata": {},
   "source": [
    "## Numerische Datentypen und Typecasting"
   ]
  },
  {
   "cell_type": "code",
   "execution_count": 14,
   "id": "0f874559-707a-4793-812c-03b957736ccd",
   "metadata": {},
   "outputs": [
    {
     "name": "stdout",
     "output_type": "stream",
     "text": [
      "3.5\n",
      "<class 'float'>\n"
     ]
    }
   ],
   "source": [
    "c = 3.5\n",
    "print(c)\n",
    "print(type(c))"
   ]
  },
  {
   "cell_type": "code",
   "execution_count": 16,
   "id": "2c42affa-a021-4bfc-b63d-9a681e1b8cbe",
   "metadata": {},
   "outputs": [
    {
     "name": "stdout",
     "output_type": "stream",
     "text": [
      "Melanie\n",
      "<class 'str'>\n"
     ]
    }
   ],
   "source": [
    "name = 'Melanie'\n",
    "print(name)\n",
    "print(type(name))"
   ]
  },
  {
   "cell_type": "code",
   "execution_count": 18,
   "id": "508e95f4-c902-42b6-9158-e22128c909d1",
   "metadata": {},
   "outputs": [
    {
     "name": "stdout",
     "output_type": "stream",
     "text": [
      "42\n",
      "<class 'str'>\n"
     ]
    }
   ],
   "source": [
    "number = '42'\n",
    "print(number)\n",
    "print(type(number))"
   ]
  },
  {
   "cell_type": "code",
   "execution_count": 22,
   "id": "6388d354-defb-4825-b61f-1f8418fb416a",
   "metadata": {},
   "outputs": [
    {
     "name": "stdout",
     "output_type": "stream",
     "text": [
      "42\n",
      "<class 'int'>\n"
     ]
    }
   ],
   "source": [
    "number_transformed = int(number)\n",
    "print(number_transformed)\n",
    "print(type(number_transformed))"
   ]
  },
  {
   "cell_type": "code",
   "execution_count": 26,
   "id": "a68bc705-1bc2-41c0-9d36-af7da1f47e4b",
   "metadata": {},
   "outputs": [
    {
     "ename": "ValueError",
     "evalue": "could not convert string to float: '42,0'",
     "output_type": "error",
     "traceback": [
      "\u001b[1;31m---------------------------------------------------------------------------\u001b[0m",
      "\u001b[1;31mValueError\u001b[0m                                Traceback (most recent call last)",
      "Cell \u001b[1;32mIn [26], line 4\u001b[0m\n\u001b[0;32m      1\u001b[0m \u001b[38;5;66;03m# produces error messages\u001b[39;00m\n\u001b[0;32m      3\u001b[0m number_float \u001b[38;5;241m=\u001b[39m \u001b[38;5;124m\"\u001b[39m\u001b[38;5;124m42,0\u001b[39m\u001b[38;5;124m\"\u001b[39m\n\u001b[1;32m----> 4\u001b[0m number_float_transformed \u001b[38;5;241m=\u001b[39m \u001b[38;5;28;43mfloat\u001b[39;49m\u001b[43m(\u001b[49m\u001b[43mnumber_float\u001b[49m\u001b[43m)\u001b[49m\n",
      "\u001b[1;31mValueError\u001b[0m: could not convert string to float: '42,0'"
     ]
    }
   ],
   "source": [
    "# produces error messages\n",
    "\n",
    "number_float = \"42,0\"\n",
    "number_float_transformed = float(number_float)"
   ]
  },
  {
   "cell_type": "markdown",
   "id": "1be4ba3a-25e1-420a-b827-6f6b3af13abd",
   "metadata": {},
   "source": [
    "## Strings"
   ]
  },
  {
   "cell_type": "code",
   "execution_count": 27,
   "id": "bcdca3b0-811d-4966-95de-ba0667a20746",
   "metadata": {},
   "outputs": [
    {
     "name": "stdout",
     "output_type": "stream",
     "text": [
      "['__add__', '__class__', '__contains__', '__delattr__', '__dir__', '__doc__', '__eq__', '__format__', '__ge__', '__getattribute__', '__getitem__', '__getnewargs__', '__gt__', '__hash__', '__init__', '__init_subclass__', '__iter__', '__le__', '__len__', '__lt__', '__mod__', '__mul__', '__ne__', '__new__', '__reduce__', '__reduce_ex__', '__repr__', '__rmod__', '__rmul__', '__setattr__', '__sizeof__', '__str__', '__subclasshook__', 'capitalize', 'casefold', 'center', 'count', 'encode', 'endswith', 'expandtabs', 'find', 'format', 'format_map', 'index', 'isalnum', 'isalpha', 'isascii', 'isdecimal', 'isdigit', 'isidentifier', 'islower', 'isnumeric', 'isprintable', 'isspace', 'istitle', 'isupper', 'join', 'ljust', 'lower', 'lstrip', 'maketrans', 'partition', 'replace', 'rfind', 'rindex', 'rjust', 'rpartition', 'rsplit', 'rstrip', 'split', 'splitlines', 'startswith', 'strip', 'swapcase', 'title', 'translate', 'upper', 'zfill']\n"
     ]
    }
   ],
   "source": [
    "print(dir(str))"
   ]
  },
  {
   "cell_type": "code",
   "execution_count": 28,
   "id": "ca8735fa-eb85-4f56-97bb-ec30134c187c",
   "metadata": {},
   "outputs": [],
   "source": [
    "sentence = \"Ich studiere Geschichtswissenschaften in Basel.\""
   ]
  },
  {
   "cell_type": "code",
   "execution_count": 29,
   "id": "a66a0b3f-e0e4-4e3b-836c-8f65a7a7c3bc",
   "metadata": {},
   "outputs": [
    {
     "name": "stdout",
     "output_type": "stream",
     "text": [
      "47\n"
     ]
    }
   ],
   "source": [
    "# Länge ermitteln\n",
    "\n",
    "print(len(sentence))"
   ]
  },
  {
   "cell_type": "code",
   "execution_count": 36,
   "id": "326311f6-b421-495c-bfd0-ab225dd5fbd8",
   "metadata": {},
   "outputs": [],
   "source": [
    "sentence = sentence.lower()"
   ]
  },
  {
   "cell_type": "code",
   "execution_count": 37,
   "id": "cbcfb88c-e426-474e-9188-1a92e57a7314",
   "metadata": {},
   "outputs": [
    {
     "name": "stdout",
     "output_type": "stream",
     "text": [
      "7\n"
     ]
    }
   ],
   "source": [
    "print(sentence.count('s'))"
   ]
  },
  {
   "cell_type": "code",
   "execution_count": 39,
   "id": "322f06f1-7175-4030-b90c-0e638f3720b4",
   "metadata": {},
   "outputs": [
    {
     "name": "stdout",
     "output_type": "stream",
     "text": [
      "1\n"
     ]
    }
   ],
   "source": [
    "print(sentence.count('basel'))"
   ]
  },
  {
   "cell_type": "code",
   "execution_count": 40,
   "id": "3c9facc3-c9e3-4dec-98c5-f9b3aad21e87",
   "metadata": {},
   "outputs": [
    {
     "name": "stdout",
     "output_type": "stream",
     "text": [
      "ich studiere geschichtswissenschaften in berlin.\n"
     ]
    }
   ],
   "source": [
    "sentence = sentence.replace('basel', 'berlin')\n",
    "print(sentence)"
   ]
  },
  {
   "cell_type": "code",
   "execution_count": 41,
   "id": "24451574-37de-4017-94bc-ebc3ad127954",
   "metadata": {},
   "outputs": [
    {
     "name": "stdout",
     "output_type": "stream",
     "text": [
      "ich studiere geschichtswissenschaften in berlin\n"
     ]
    }
   ],
   "source": [
    "sentence = sentence.replace('.', '')\n",
    "print(sentence)"
   ]
  },
  {
   "cell_type": "code",
   "execution_count": 44,
   "id": "f045130e-de64-4a9e-85b8-a29228cd5008",
   "metadata": {},
   "outputs": [
    {
     "name": "stdout",
     "output_type": "stream",
     "text": [
      "['ich', 'studiere', 'geschichtswissenschaften', 'in', 'berlin']\n",
      "<class 'list'>\n"
     ]
    }
   ],
   "source": [
    "print(sentence.split())\n",
    "print(type(sentence.split()))"
   ]
  },
  {
   "cell_type": "markdown",
   "id": "e3ef082c-1f74-4b53-b6d4-fc97bee1fb22",
   "metadata": {},
   "source": [
    "## for-Schleife"
   ]
  },
  {
   "cell_type": "code",
   "execution_count": 45,
   "id": "96c77f75-09bf-40a4-839c-d9bacad3cc93",
   "metadata": {},
   "outputs": [
    {
     "name": "stdout",
     "output_type": "stream",
     "text": [
      "H\n",
      "a\n",
      "l\n",
      "l\n",
      "o\n",
      " \n",
      "W\n",
      "e\n",
      "l\n",
      "t\n",
      "!\n"
     ]
    }
   ],
   "source": [
    "zeichenkette = 'Hallo Welt!'\n",
    "\n",
    "for buchstabe in zeichenkette: \n",
    "    print(buchstabe)"
   ]
  },
  {
   "cell_type": "code",
   "execution_count": 46,
   "id": "f69724fa-f63e-47ea-a6e1-2673aafed2ee",
   "metadata": {},
   "outputs": [
    {
     "name": "stdout",
     "output_type": "stream",
     "text": [
      "Index =>  0 \tZeichen => H\n",
      "Index =>  1 \tZeichen => a\n",
      "Index =>  2 \tZeichen => l\n",
      "Index =>  3 \tZeichen => l\n",
      "Index =>  4 \tZeichen => o\n",
      "Index =>  5 \tZeichen =>  \n",
      "Index =>  6 \tZeichen => W\n",
      "Index =>  7 \tZeichen => e\n",
      "Index =>  8 \tZeichen => l\n",
      "Index =>  9 \tZeichen => t\n",
      "Index =>  10 \tZeichen => !\n"
     ]
    }
   ],
   "source": [
    "for i, c in enumerate(zeichenkette): \n",
    "    print('Index => ', i, '\\tZeichen =>',  c)"
   ]
  },
  {
   "cell_type": "code",
   "execution_count": 49,
   "id": "4a0be395-ad15-4b9e-99f5-be4bd70b0a37",
   "metadata": {},
   "outputs": [
    {
     "name": "stdout",
     "output_type": "stream",
     "text": [
      "0\n",
      "Quadratzahl 0\n",
      "1\n",
      "Quadratzahl 1\n",
      "2\n",
      "Quadratzahl 4\n",
      "3\n",
      "Quadratzahl 9\n",
      "4\n",
      "Quadratzahl 16\n",
      "5\n",
      "Quadratzahl 25\n",
      "6\n",
      "Quadratzahl 36\n",
      "7\n",
      "Quadratzahl 49\n",
      "8\n",
      "Quadratzahl 64\n",
      "9\n",
      "Quadratzahl 81\n"
     ]
    }
   ],
   "source": [
    "for number in range(10):\n",
    "    print(number)\n",
    "    print('Quadratzahl', number**2)"
   ]
  },
  {
   "cell_type": "markdown",
   "id": "94aa1b62-bd4e-47fa-bff8-12d83246047f",
   "metadata": {},
   "source": [
    "## Indexierung und Slicing"
   ]
  },
  {
   "cell_type": "code",
   "execution_count": 50,
   "id": "d76a7725-db94-457c-b586-580ed5a8fbad",
   "metadata": {},
   "outputs": [
    {
     "name": "stdout",
     "output_type": "stream",
     "text": [
      "Hallo Welt!\n"
     ]
    }
   ],
   "source": [
    "print(zeichenkette)"
   ]
  },
  {
   "cell_type": "code",
   "execution_count": 51,
   "id": "a5c167e7-eacc-48f5-9ae1-150e7ba824c6",
   "metadata": {},
   "outputs": [
    {
     "name": "stdout",
     "output_type": "stream",
     "text": [
      "a\n"
     ]
    }
   ],
   "source": [
    "print(zeichenkette[1])"
   ]
  },
  {
   "cell_type": "code",
   "execution_count": 52,
   "id": "920758d2-fd52-4aed-991d-1c60d80eff7c",
   "metadata": {},
   "outputs": [
    {
     "name": "stdout",
     "output_type": "stream",
     "text": [
      "H\n"
     ]
    }
   ],
   "source": [
    "print(zeichenkette[0])"
   ]
  },
  {
   "cell_type": "code",
   "execution_count": 53,
   "id": "cbc2132e-f44b-44fc-a19f-3299be2e257e",
   "metadata": {},
   "outputs": [
    {
     "name": "stdout",
     "output_type": "stream",
     "text": [
      "!\n"
     ]
    }
   ],
   "source": [
    "print(zeichenkette[-1])"
   ]
  },
  {
   "cell_type": "code",
   "execution_count": 54,
   "id": "f4027801-c94f-47ac-9861-48e4391a291f",
   "metadata": {},
   "outputs": [
    {
     "name": "stdout",
     "output_type": "stream",
     "text": [
      "o Welt!\n"
     ]
    }
   ],
   "source": [
    "print(zeichenkette[4:])"
   ]
  },
  {
   "cell_type": "code",
   "execution_count": 56,
   "id": "5f93fa1a-96b5-4088-98c0-20b88de599a9",
   "metadata": {},
   "outputs": [
    {
     "name": "stdout",
     "output_type": "stream",
     "text": [
      "lt!\n"
     ]
    }
   ],
   "source": [
    "print(zeichenkette[-3:])"
   ]
  },
  {
   "cell_type": "code",
   "execution_count": 57,
   "id": "f0e1507c-ec04-48c1-8c64-c02d3443d148",
   "metadata": {},
   "outputs": [
    {
     "name": "stdout",
     "output_type": "stream",
     "text": [
      "llo We\n"
     ]
    }
   ],
   "source": [
    "print(zeichenkette[2:8])"
   ]
  },
  {
   "cell_type": "code",
   "execution_count": 58,
   "id": "03f1336a-ad08-42f6-b9f1-1caf3f979504",
   "metadata": {},
   "outputs": [
    {
     "name": "stdout",
     "output_type": "stream",
     "text": [
      "HloWl!\n"
     ]
    }
   ],
   "source": [
    "print(zeichenkette[::2])"
   ]
  },
  {
   "cell_type": "code",
   "execution_count": 59,
   "id": "3a552131-c4c1-4993-9cdd-40d46654b82e",
   "metadata": {},
   "outputs": [
    {
     "name": "stdout",
     "output_type": "stream",
     "text": [
      "!tleW ollaH\n"
     ]
    }
   ],
   "source": [
    "print(zeichenkette[::-1])"
   ]
  },
  {
   "cell_type": "markdown",
   "id": "0b4c26e2-d587-44ef-b723-d24bc88bd8b9",
   "metadata": {},
   "source": [
    "## If-else-Anweisungen\n",
    "\n",
    "Boolesche Werte und Vergleichsoperatoren"
   ]
  },
  {
   "cell_type": "code",
   "execution_count": 60,
   "id": "cff3897b-76d4-4729-baad-a90cec715387",
   "metadata": {},
   "outputs": [
    {
     "name": "stdout",
     "output_type": "stream",
     "text": [
      "True\n"
     ]
    }
   ],
   "source": [
    "print('Hello' in 'Hello World!')"
   ]
  },
  {
   "cell_type": "code",
   "execution_count": 61,
   "id": "2b2e47e5-1d66-4b83-82e4-31ed9b5a6f0d",
   "metadata": {},
   "outputs": [
    {
     "name": "stdout",
     "output_type": "stream",
     "text": [
      "False\n"
     ]
    }
   ],
   "source": [
    "print('Moin' in 'Hello World!')"
   ]
  },
  {
   "cell_type": "code",
   "execution_count": 62,
   "id": "7352f112-51d9-48e1-8611-623167dc192d",
   "metadata": {},
   "outputs": [
    {
     "name": "stdout",
     "output_type": "stream",
     "text": [
      "False\n"
     ]
    }
   ],
   "source": [
    "print('Hello' not in 'Hello World!')"
   ]
  },
  {
   "cell_type": "code",
   "execution_count": 63,
   "id": "f47d4639-a5b8-4a11-bcf1-4ee1dffb89e8",
   "metadata": {},
   "outputs": [
    {
     "name": "stdout",
     "output_type": "stream",
     "text": [
      "False\n"
     ]
    }
   ],
   "source": [
    "print(5 > 10)"
   ]
  },
  {
   "cell_type": "code",
   "execution_count": 64,
   "id": "0721b897-74dd-4e2b-8781-ce52445bda3b",
   "metadata": {},
   "outputs": [
    {
     "name": "stdout",
     "output_type": "stream",
     "text": [
      "True\n"
     ]
    }
   ],
   "source": [
    "print(5 < 10)"
   ]
  },
  {
   "cell_type": "code",
   "execution_count": 66,
   "id": "9fed26e1-8a39-43c3-ad45-e533d7e4e4c1",
   "metadata": {},
   "outputs": [
    {
     "name": "stdout",
     "output_type": "stream",
     "text": [
      "False\n"
     ]
    }
   ],
   "source": [
    "print('42' == 42)"
   ]
  },
  {
   "cell_type": "code",
   "execution_count": 68,
   "id": "f565afb4-6f48-49c9-b731-8cf783401824",
   "metadata": {},
   "outputs": [
    {
     "name": "stdout",
     "output_type": "stream",
     "text": [
      "False\n"
     ]
    }
   ],
   "source": [
    "print('Hello' == 'Hallo')"
   ]
  },
  {
   "cell_type": "code",
   "execution_count": 69,
   "id": "6d7f888a-34e3-41ed-bf43-cd0b6ad4ac5d",
   "metadata": {},
   "outputs": [
    {
     "name": "stdout",
     "output_type": "stream",
     "text": [
      "True\n"
     ]
    }
   ],
   "source": [
    "print(5 != 10)"
   ]
  },
  {
   "cell_type": "code",
   "execution_count": 70,
   "id": "dd080ef3-0eca-4153-889b-aca46501ca86",
   "metadata": {},
   "outputs": [
    {
     "name": "stdout",
     "output_type": "stream",
     "text": [
      "Person ist adelig.\n"
     ]
    }
   ],
   "source": [
    "person = 'Otto von Bismarck'\n",
    "\n",
    "if 'von' in person:\n",
    "    print('Person ist adelig.')\n",
    "else:\n",
    "    print('Person ist nicht adelig.')"
   ]
  },
  {
   "cell_type": "code",
   "execution_count": 74,
   "id": "233285fb-7d0b-49f7-b244-e49ba7e0ed7e",
   "metadata": {},
   "outputs": [
    {
     "name": "stdout",
     "output_type": "stream",
     "text": [
      "Das Wort ist 6 Zeichen lang.\n"
     ]
    }
   ],
   "source": [
    "word = 'Masken'\n",
    "\n",
    "if len(word) == 10:\n",
    "    print('Hello World!')\n",
    "\n",
    "elif len(word) > 15:\n",
    "    print('Dies ist ein langes Wort.')\n",
    "\n",
    "elif len(word) < 5:\n",
    "    print('Dies ist ein kurzes Wort.')\n",
    "\n",
    "else:\n",
    "    print(f'Das Wort ist {len(word)} Zeichen lang.')"
   ]
  },
  {
   "cell_type": "markdown",
   "id": "8af30d08-eb94-4d3b-8cd7-3498aa09679d",
   "metadata": {},
   "source": [
    "## List"
   ]
  },
  {
   "cell_type": "code",
   "execution_count": 75,
   "id": "6ef5c700-3709-47b7-b6ec-516d6da5046c",
   "metadata": {},
   "outputs": [
    {
     "name": "stdout",
     "output_type": "stream",
     "text": [
      "['egg', 'banana', 'bread', 'cheese']\n",
      "<class 'list'>\n"
     ]
    }
   ],
   "source": [
    "list_strings = [ 'egg', 'banana', 'bread', 'cheese' ]\n",
    "print(list_strings)\n",
    "print(type(list_strings))"
   ]
  },
  {
   "cell_type": "code",
   "execution_count": 76,
   "id": "d785308f-bf80-4ddf-a3a3-bdd0b58a946f",
   "metadata": {},
   "outputs": [
    {
     "name": "stdout",
     "output_type": "stream",
     "text": [
      "['Hello World!']\n"
     ]
    }
   ],
   "source": [
    "another_list = []\n",
    "\n",
    "another_list.append('Hello World!')\n",
    "print(another_list)"
   ]
  },
  {
   "cell_type": "code",
   "execution_count": 77,
   "id": "4238e417-16fe-48d9-bf88-c898b5088b82",
   "metadata": {},
   "outputs": [
    {
     "name": "stdout",
     "output_type": "stream",
     "text": [
      "['Hello World!', [1, 2, 3, 4]]\n"
     ]
    }
   ],
   "source": [
    "another_list.append([1, 2, 3, 4])\n",
    "print(another_list)"
   ]
  },
  {
   "cell_type": "code",
   "execution_count": 78,
   "id": "d52e6589-b9a7-4041-a644-785515043a94",
   "metadata": {},
   "outputs": [
    {
     "name": "stdout",
     "output_type": "stream",
     "text": [
      "['Hello World!', [1, 2, 3, 4], 42]\n"
     ]
    }
   ],
   "source": [
    "another_list.append(42)\n",
    "print(another_list)"
   ]
  },
  {
   "cell_type": "code",
   "execution_count": 80,
   "id": "5584bee6-40b4-4c65-9ba8-a612e78fa697",
   "metadata": {},
   "outputs": [],
   "source": [
    "greeting = another_list[0]"
   ]
  },
  {
   "cell_type": "code",
   "execution_count": 81,
   "id": "154dd261-a287-484e-a580-53a012c5c2e6",
   "metadata": {},
   "outputs": [
    {
     "name": "stdout",
     "output_type": "stream",
     "text": [
      "Hello World!\n"
     ]
    }
   ],
   "source": [
    "print(greeting)"
   ]
  },
  {
   "cell_type": "code",
   "execution_count": 82,
   "id": "833b0f19-597a-4eb9-83eb-6f5b4ef3687b",
   "metadata": {},
   "outputs": [
    {
     "name": "stdout",
     "output_type": "stream",
     "text": [
      "['Hello World!', [1, 2, 3, 4], 42]\n"
     ]
    }
   ],
   "source": [
    "print(another_list)"
   ]
  },
  {
   "cell_type": "code",
   "execution_count": 83,
   "id": "e450a20e-797e-4ec3-8703-38608f657cc9",
   "metadata": {},
   "outputs": [
    {
     "data": {
      "text/plain": [
       "42"
      ]
     },
     "execution_count": 83,
     "metadata": {},
     "output_type": "execute_result"
    }
   ],
   "source": [
    "another_list[-1]"
   ]
  },
  {
   "cell_type": "code",
   "execution_count": 84,
   "id": "c76cc05e-a928-4a2a-902f-c59fce459da2",
   "metadata": {},
   "outputs": [
    {
     "data": {
      "text/plain": [
       "3"
      ]
     },
     "execution_count": 84,
     "metadata": {},
     "output_type": "execute_result"
    }
   ],
   "source": [
    "another_list[1][2]"
   ]
  },
  {
   "cell_type": "code",
   "execution_count": 85,
   "id": "e5f62683-8372-4bdb-b94c-8f5058c79f20",
   "metadata": {},
   "outputs": [
    {
     "name": "stdout",
     "output_type": "stream",
     "text": [
      "['__add__', '__class__', '__contains__', '__delattr__', '__delitem__', '__dir__', '__doc__', '__eq__', '__format__', '__ge__', '__getattribute__', '__getitem__', '__gt__', '__hash__', '__iadd__', '__imul__', '__init__', '__init_subclass__', '__iter__', '__le__', '__len__', '__lt__', '__mul__', '__ne__', '__new__', '__reduce__', '__reduce_ex__', '__repr__', '__reversed__', '__rmul__', '__setattr__', '__setitem__', '__sizeof__', '__str__', '__subclasshook__', 'append', 'clear', 'copy', 'count', 'extend', 'index', 'insert', 'pop', 'remove', 'reverse', 'sort']\n"
     ]
    }
   ],
   "source": [
    "print(dir(list))"
   ]
  },
  {
   "cell_type": "code",
   "execution_count": 86,
   "id": "d6355b5d-b252-4c5b-894a-5d3824c1d55c",
   "metadata": {},
   "outputs": [
    {
     "name": "stdout",
     "output_type": "stream",
     "text": [
      "Hello World!\n",
      "[1, 2, 3, 4]\n",
      "42\n"
     ]
    }
   ],
   "source": [
    "for element in another_list:\n",
    "    print(element)"
   ]
  },
  {
   "cell_type": "markdown",
   "id": "1bb1b282-d004-430e-bd52-f37c95b5dcd1",
   "metadata": {},
   "source": [
    "## Dictionary"
   ]
  },
  {
   "cell_type": "code",
   "execution_count": 87,
   "id": "fb7610e3-2886-43e9-ab25-30c8dd2ce8eb",
   "metadata": {},
   "outputs": [
    {
     "name": "stdout",
     "output_type": "stream",
     "text": [
      "{'Cluny': 910, 'Maria Laach': 1093, 'Plankstetten': 1129, 'St.Hildegard': 1904, 'Ottobeuren': 'unbekannt'}\n"
     ]
    }
   ],
   "source": [
    "founding_date = {'Cluny': 910,\n",
    "                 'Maria Laach': 1093,\n",
    "                 'Plankstetten': 1129,\n",
    "                 'St.Hildegard': 1904,\n",
    "                 'Ottobeuren': 'unbekannt' }\n",
    "print(founding_date)"
   ]
  },
  {
   "cell_type": "code",
   "execution_count": 88,
   "id": "26bddc4b-053d-4c42-b79b-8c9fbafb55ae",
   "metadata": {},
   "outputs": [
    {
     "name": "stdout",
     "output_type": "stream",
     "text": [
      "910\n"
     ]
    }
   ],
   "source": [
    "print(founding_date['Cluny'])"
   ]
  },
  {
   "cell_type": "code",
   "execution_count": 89,
   "id": "034065f5-8109-437a-b3f1-dfd8808ca80c",
   "metadata": {},
   "outputs": [
    {
     "name": "stdout",
     "output_type": "stream",
     "text": [
      "unbekannt\n"
     ]
    }
   ],
   "source": [
    "print(founding_date['Ottobeuren'])"
   ]
  },
  {
   "cell_type": "code",
   "execution_count": 90,
   "id": "0b01f868-2bf3-4636-9308-e2d5177a0d9d",
   "metadata": {},
   "outputs": [],
   "source": [
    "founding_date['Ottobeuren'] = 1100"
   ]
  },
  {
   "cell_type": "code",
   "execution_count": 91,
   "id": "98224de2-57ce-4858-8b9b-515694ddb6ed",
   "metadata": {},
   "outputs": [
    {
     "name": "stdout",
     "output_type": "stream",
     "text": [
      "{'Cluny': 910, 'Maria Laach': 1093, 'Plankstetten': 1129, 'St.Hildegard': 1904, 'Ottobeuren': 1100}\n"
     ]
    }
   ],
   "source": [
    "print(founding_date)"
   ]
  },
  {
   "cell_type": "code",
   "execution_count": 92,
   "id": "5d65ab9a-bf12-4352-b680-4f75edd400a2",
   "metadata": {},
   "outputs": [],
   "source": [
    "founding_date['Oelinghausen'] = 1174"
   ]
  },
  {
   "cell_type": "code",
   "execution_count": 93,
   "id": "fea83404-6f3f-478c-be80-8d644bc00a07",
   "metadata": {},
   "outputs": [
    {
     "name": "stdout",
     "output_type": "stream",
     "text": [
      "{'Cluny': 910, 'Maria Laach': 1093, 'Plankstetten': 1129, 'St.Hildegard': 1904, 'Ottobeuren': 1100, 'Oelinghausen': 1174}\n"
     ]
    }
   ],
   "source": [
    "print(founding_date)"
   ]
  },
  {
   "cell_type": "markdown",
   "id": "1fe74e4b-c585-4742-992c-245c87ec0bb6",
   "metadata": {},
   "source": [
    "## Sets"
   ]
  },
  {
   "cell_type": "code",
   "execution_count": 94,
   "id": "5452e3fe-aaa9-4b51-aed6-ddb4e88cab58",
   "metadata": {},
   "outputs": [
    {
     "name": "stdout",
     "output_type": "stream",
     "text": [
      "{1, 2, 3, 4, 5}\n"
     ]
    }
   ],
   "source": [
    "menge = { 1, 2, 3, 3, 3, 4, 4, 5, 5 }\n",
    "print(menge)"
   ]
  },
  {
   "cell_type": "markdown",
   "id": "9d9ab1f4-c794-4ca4-a9d6-6c0c7e49bc8e",
   "metadata": {},
   "source": [
    "## Tuple"
   ]
  },
  {
   "cell_type": "code",
   "execution_count": 95,
   "id": "42905571-73c2-4772-a37e-5f21c4ae4aa5",
   "metadata": {},
   "outputs": [
    {
     "name": "stdout",
     "output_type": "stream",
     "text": [
      "(0, 2, 3, 4)\n"
     ]
    }
   ],
   "source": [
    "tup = (0, 2, 3, 4)\n",
    "print(tup)"
   ]
  },
  {
   "cell_type": "markdown",
   "id": "57e0f74a-1e52-4b44-8876-29a3081871bb",
   "metadata": {},
   "source": [
    "## Funktionen"
   ]
  },
  {
   "cell_type": "code",
   "execution_count": 96,
   "id": "b3bbd5f1-5265-4ca4-ac68-e760b71cbe31",
   "metadata": {},
   "outputs": [],
   "source": [
    "def make_square(number):                            # Funktionskopf und Argument\n",
    "                                                    # eingerückter Funktionskörper\n",
    "    '''Function to calculate square of number'''    # Doc-String\n",
    "\n",
    "    output = number**2                               \n",
    "\n",
    "    return output                                   # Rückgabe"
   ]
  },
  {
   "cell_type": "code",
   "execution_count": 97,
   "id": "52f7063a-093f-42c7-b8c3-827819f70663",
   "metadata": {},
   "outputs": [
    {
     "data": {
      "text/plain": [
       "25"
      ]
     },
     "execution_count": 97,
     "metadata": {},
     "output_type": "execute_result"
    }
   ],
   "source": [
    "make_square(5)"
   ]
  },
  {
   "cell_type": "code",
   "execution_count": null,
   "id": "d5d45023-4aad-4981-b023-9c8fefd4a8eb",
   "metadata": {},
   "outputs": [],
   "source": []
  }
 ],
 "metadata": {
  "kernelspec": {
   "display_name": "Python 3 (ipykernel)",
   "language": "python",
   "name": "python3"
  },
  "language_info": {
   "codemirror_mode": {
    "name": "ipython",
    "version": 3
   },
   "file_extension": ".py",
   "mimetype": "text/x-python",
   "name": "python",
   "nbconvert_exporter": "python",
   "pygments_lexer": "ipython3",
   "version": "3.8.13"
  }
 },
 "nbformat": 4,
 "nbformat_minor": 5
}
